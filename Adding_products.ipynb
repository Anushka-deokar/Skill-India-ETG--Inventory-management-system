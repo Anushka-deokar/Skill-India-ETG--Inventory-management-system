{
  "nbformat": 4,
  "nbformat_minor": 0,
  "metadata": {
    "colab": {
      "name": "Adding products",
      "provenance": [],
      "collapsed_sections": []
    },
    "kernelspec": {
      "name": "python3",
      "display_name": "Python 3"
    },
    "language_info": {
      "name": "python"
    }
  },
  "cells": [
    {
      "cell_type": "code",
      "metadata": {
        "id": "du6-qZAIGkV5"
      },
      "source": [
        "#Read Data from Json"
      ],
      "execution_count": null,
      "outputs": []
    },
    {
      "cell_type": "markdown",
      "metadata": {
        "id": "fFhmizEl8H6x"
      },
      "source": [
        "# Read Data from Json\n",
        "\n"
      ]
    },
    {
      "cell_type": "code",
      "metadata": {
        "id": "elv0M8yEKZR1"
      },
      "source": [
        "fd = open(\"record.json\",\"r\")\n",
        "r = fd.read()\n",
        "fd.close()"
      ],
      "execution_count": 8,
      "outputs": []
    },
    {
      "cell_type": "code",
      "metadata": {
        "colab": {
          "base_uri": "https://localhost:8080/",
          "height": 86
        },
        "id": "_clJiPxkK0td",
        "outputId": "a2893864-335c-416f-ada3-d5dd703e45a8"
      },
      "source": [
        "r"
      ],
      "execution_count": null,
      "outputs": [
        {
          "output_type": "execute_result",
          "data": {
            "application/vnd.google.colaboratory.intrinsic+json": {
              "type": "string"
            },
            "text/plain": [
              "'{\"1001\": {\"name\": \"Choco Cake\", \"qn\": 34, \"pr\": 100}, \"1002\": {\"name\": \"Milk Cake\", \"pr\": 800, \"qn\": 100}, \"1003\": {\"name\": \"Drink\", \"pr\": 85, \"qn\": 100}, \"1004\": {\"name\": \"Candy\", \"pr\": 5, \"qn\": 1000}, \"1005\": {\"name\": \"Pen\", \"pr\": 20, \"qn\": 100}, \"1006\": {\"name\": \"Phone\", \"pr\": 50000, \"qn\": 10}, \"1007\": {\"name\": \"Mic\", \"pr\": 1500, \"qn\": 0}, \"1008\": {\"name\": \"Case\", \"pr\": 599, \"qn\": 5}, \"1009\": {\"name\": \"Keyboard\", \"pr\": 1999, \"qn\": 10}, \"1014\": {\"name\": \"Pencil\", \"pr\": 10, \"qn\": 5}}'"
            ]
          },
          "metadata": {},
          "execution_count": 13
        }
      ]
    },
    {
      "cell_type": "code",
      "metadata": {
        "id": "-JSU79WQLMP7"
      },
      "source": [
        "import json\n",
        "record = json.loads(r)\n"
      ],
      "execution_count": 10,
      "outputs": []
    },
    {
      "cell_type": "code",
      "metadata": {
        "colab": {
          "base_uri": "https://localhost:8080/"
        },
        "id": "jrQMTtcWNht8",
        "outputId": "011d0039-667b-4018-fb0a-dbd487c12986"
      },
      "source": [
        "record"
      ],
      "execution_count": 11,
      "outputs": [
        {
          "output_type": "execute_result",
          "data": {
            "text/plain": [
              "{'1001': {'name': 'Choco Cake', 'pr': 100, 'qn': 24},\n",
              " '1002': {'name': 'Milk Cake', 'pr': 800, 'qn': 100},\n",
              " '1003': {'name': 'Drink', 'pr': 85, 'qn': 100},\n",
              " '1004': {'name': 'Candy', 'pr': 5, 'qn': 1000},\n",
              " '1005': {'name': 'Pen', 'pr': 20, 'qn': 100},\n",
              " '1006': {'name': 'Phone', 'pr': 50000, 'qn': 10},\n",
              " '1007': {'name': 'Mic', 'pr': 1500, 'qn': 0},\n",
              " '1008': {'name': 'Case', 'pr': 599, 'qn': 5},\n",
              " '1009': {'name': 'Keyboard', 'pr': 1999, 'qn': 10},\n",
              " '1010': {'name': 'Cupcake', 'pr': 100, 'qn': 5},\n",
              " '1011': {'name': 'Truffle Cake', 'pr': 400, 'qn': 1},\n",
              " '1012': {'name': 'Oreo', 'pr': 30, 'qn': 10},\n",
              " '1013': {'name': 'Kitkat', 'pr': 20, 'qn': 50},\n",
              " '1014': {'name': 'Pencil', 'pr': 10, 'qn': 5},\n",
              " '1015': {'name': 'Cookies', 'pr': 145, 'qn': 5},\n",
              " '1016': {'name': 'Chocolate snack', 'pr': 45, 'qn': 6},\n",
              " '1017': {'name': 'Salty chips', 'pr': 20, 'qn': 10},\n",
              " '1018': {'name': 'Butter bite biscuit', 'pr': 200, 'qn': 5},\n",
              " '1019': {'name': 'Organic biscuit', 'pr': 100, 'qn': 5},\n",
              " '1020': {'name': 'Lipton green tea', 'pr': 200, 'qn': 4},\n",
              " '1021': {'name': 'Vikram tea', 'pr': 165, 'qn': 5},\n",
              " '1022': {'name': 'Aloevera juice', 'pr': 50, 'qn': 6},\n",
              " '1023': {'name': 'Amla Juice', 'pr': 60, 'qn': 7},\n",
              " '1024': {'name': 'Almond', 'pr': 60, 'qn': 1},\n",
              " '1025': {'name': 'Cashew nuts', 'pr': 50, 'qn': 5},\n",
              " '1026': {'name': 'Peanuts', 'pr': 70, 'qn': 4},\n",
              " '1027': {'name': 'Tomato sauce', 'pr': 125, 'qn': 5},\n",
              " '1028': {'name': 'Soya sauce', 'pr': 125, 'qn': 6},\n",
              " '1029': {'name': 'Red chilly sauce', 'pr': 160, 'qn': 10},\n",
              " '1030': {'name': 'Green chilly sauce', 'pr': 180, 'qn': 20}}"
            ]
          },
          "metadata": {},
          "execution_count": 11
        }
      ]
    },
    {
      "cell_type": "code",
      "metadata": {
        "colab": {
          "base_uri": "https://localhost:8080/"
        },
        "id": "7PH2Op57OD93",
        "outputId": "2a79404b-c1e1-45a9-efe4-a9942987cea5"
      },
      "source": [
        "#Adding  Items to inventory\n",
        "\n",
        "prod_id = str(input(\"Enter product id:\"))\n",
        "name = str(input(\"Enter name:\"))\n",
        "pr = int(input(\"Enter price:\"))\n",
        "qn = int(input(\"Enter quantity:\"))\n",
        "\n",
        "for i in record:\n",
        "\n",
        "  if(i==prod_id):\n",
        "\n",
        "    if(record[i]['name']==name):\n",
        "\n",
        "\n",
        "     qn = record[i]['qn']+qn\n",
        "\n",
        "\n",
        "record[prod_id] = {'name': name, 'pr': pr, 'qn': qn}\n",
        "\n",
        "js = json.dumps(record)\n",
        "\n",
        "fd = open(\"record.json\",'w')\n",
        "fd.write(js)\n",
        "fd.close()  "
      ],
      "execution_count": 16,
      "outputs": [
        {
          "name": "stdout",
          "output_type": "stream",
          "text": [
            "Enter product id:1031\n",
            "Enter name:Chilli powder\n",
            "Enter price:60\n",
            "Enter quantity:50\n"
          ]
        }
      ]
    },
    {
      "cell_type": "code",
      "metadata": {
        "colab": {
          "base_uri": "https://localhost:8080/"
        },
        "id": "RcERHu7aQJfu",
        "outputId": "7a125550-6fcc-44df-ccba-4d833bd22cc9"
      },
      "source": [
        "record"
      ],
      "execution_count": 17,
      "outputs": [
        {
          "output_type": "execute_result",
          "data": {
            "text/plain": [
              "{'1001': {'name': 'Choco Cake', 'pr': 100, 'qn': 44},\n",
              " '1002': {'name': 'Milk Cake', 'pr': 800, 'qn': 100},\n",
              " '1003': {'name': 'Drink', 'pr': 85, 'qn': 100},\n",
              " '1004': {'name': 'Candy', 'pr': 5, 'qn': 1000},\n",
              " '1005': {'name': 'Pen', 'pr': 20, 'qn': 100},\n",
              " '1006': {'name': 'Phone', 'pr': 50000, 'qn': 10},\n",
              " '1007': {'name': 'Mic', 'pr': 1500, 'qn': 0},\n",
              " '1008': {'name': 'Case', 'pr': 599, 'qn': 5},\n",
              " '1009': {'name': 'Keyboard', 'pr': 1999, 'qn': 10},\n",
              " '1010': {'name': 'Cupcake', 'pr': 100, 'qn': 5},\n",
              " '1011': {'name': 'Truffle Cake', 'pr': 400, 'qn': 1},\n",
              " '1012': {'name': 'Oreo', 'pr': 30, 'qn': 10},\n",
              " '1013': {'name': 'Kitkat', 'pr': 20, 'qn': 50},\n",
              " '1014': {'name': 'Pencil', 'pr': 10, 'qn': 5},\n",
              " '1015': {'name': 'Cookies', 'pr': 145, 'qn': 5},\n",
              " '1016': {'name': 'Chocolate snack', 'pr': 45, 'qn': 6},\n",
              " '1017': {'name': 'Salty chips', 'pr': 20, 'qn': 10},\n",
              " '1018': {'name': 'Butter bite biscuit', 'pr': 200, 'qn': 5},\n",
              " '1019': {'name': 'Organic biscuit', 'pr': 100, 'qn': 5},\n",
              " '1020': {'name': 'Lipton green tea', 'pr': 200, 'qn': 4},\n",
              " '1021': {'name': 'Vikram tea', 'pr': 165, 'qn': 5},\n",
              " '1022': {'name': 'Aloevera juice', 'pr': 50, 'qn': 6},\n",
              " '1023': {'name': 'Amla Juice', 'pr': 60, 'qn': 7},\n",
              " '1024': {'name': 'Almond', 'pr': 60, 'qn': 1},\n",
              " '1025': {'name': 'Cashew nuts', 'pr': 50, 'qn': 5},\n",
              " '1026': {'name': 'Peanuts', 'pr': 70, 'qn': 4},\n",
              " '1027': {'name': 'Tomato sauce', 'pr': 125, 'qn': 5},\n",
              " '1028': {'name': 'Soya sauce', 'pr': 125, 'qn': 6},\n",
              " '1029': {'name': 'Red chilly sauce', 'pr': 160, 'qn': 10},\n",
              " '1030': {'name': 'Green chilly sauce', 'pr': 180, 'qn': 20},\n",
              " '1031': {'name': 'Chilli powder', 'pr': 60, 'qn': 50}}"
            ]
          },
          "metadata": {},
          "execution_count": 17
        }
      ]
    },
    {
      "cell_type": "code",
      "metadata": {
        "id": "Sbe3UsKEojFA"
      },
      "source": [
        ""
      ],
      "execution_count": null,
      "outputs": []
    }
  ]
}