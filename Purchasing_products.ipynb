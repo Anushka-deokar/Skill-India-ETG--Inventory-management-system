{
  "nbformat": 4,
  "nbformat_minor": 0,
  "metadata": {
    "colab": {
      "name": "Purchasing products",
      "provenance": [],
      "collapsed_sections": []
    },
    "kernelspec": {
      "name": "python3",
      "display_name": "Python 3"
    },
    "language_info": {
      "name": "python"
    }
  },
  "cells": [
    {
      "cell_type": "code",
      "metadata": {
        "id": "ScbP5gqsGy62"
      },
      "source": [
        "import json\n",
        "\n",
        "fd = open(\"record.json\",'r')\n",
        "r = fd.read()\n",
        "fd.close()\n",
        "\n",
        "records = json.loads(r)"
      ],
      "execution_count": 54,
      "outputs": []
    },
    {
      "cell_type": "code",
      "metadata": {
        "colab": {
          "base_uri": "https://localhost:8080/"
        },
        "id": "iynKvzdSynkM",
        "outputId": "838839e2-a3d0-4674-805c-85db79a1f3f7"
      },
      "source": [
        "records"
      ],
      "execution_count": 55,
      "outputs": [
        {
          "output_type": "execute_result",
          "data": {
            "text/plain": [
              "{'1001': {'name': 'Choco Cake', 'pr': 100, 'qn': 14},\n",
              " '1002': {'name': 'Milk Cake', 'pr': 800, 'qn': 100},\n",
              " '1003': {'name': 'Drink', 'pr': 85, 'qn': 90},\n",
              " '1004': {'name': 'Candy', 'pr': 5, 'qn': 995},\n",
              " '1005': {'name': 'Pen', 'pr': 20, 'qn': 100},\n",
              " '1006': {'name': 'Phone', 'pr': 50000, 'qn': 10},\n",
              " '1007': {'name': 'Mic', 'pr': 1500, 'qn': 0},\n",
              " '1008': {'name': 'Case', 'pr': 599, 'qn': 5},\n",
              " '1009': {'name': 'Keyboard', 'pr': 1999, 'qn': 10},\n",
              " '1010': {'name': 'Cupcake', 'pr': 100, 'qn': 5},\n",
              " '1011': {'name': 'Truffle Cake', 'pr': 400, 'qn': 1},\n",
              " '1012': {'name': 'Oreo', 'pr': 30, 'qn': 10},\n",
              " '1013': {'name': 'Kitkat', 'pr': 20, 'qn': 50},\n",
              " '1014': {'name': 'Pencil', 'pr': 10, 'qn': 5},\n",
              " '1015': {'name': 'Cookies', 'pr': 145, 'qn': 5},\n",
              " '1016': {'name': 'Chocolate snack', 'pr': 45, 'qn': 6},\n",
              " '1017': {'name': 'Salty chips', 'pr': 20, 'qn': 10},\n",
              " '1018': {'name': 'Butter bite biscuit', 'pr': 200, 'qn': 5},\n",
              " '1019': {'name': 'Organic biscuit', 'pr': 100, 'qn': 5},\n",
              " '1020': {'name': 'Lipton green tea', 'pr': 200, 'qn': 4},\n",
              " '1021': {'name': 'Vikram tea', 'pr': 165, 'qn': 5},\n",
              " '1022': {'name': 'Aloevera juice', 'pr': 50, 'qn': 6},\n",
              " '1023': {'name': 'Amla Juice', 'pr': 60, 'qn': 7},\n",
              " '1024': {'name': 'Almond', 'pr': 60, 'qn': 1},\n",
              " '1025': {'name': 'Cashew nuts', 'pr': 50, 'qn': 5},\n",
              " '1026': {'name': 'Peanuts', 'pr': 70, 'qn': 4},\n",
              " '1027': {'name': 'Tomato sauce', 'pr': 125, 'qn': 5},\n",
              " '1028': {'name': 'Soya sauce', 'pr': 125, 'qn': 6},\n",
              " '1029': {'name': 'Red chilly sauce', 'pr': 160, 'qn': 10},\n",
              " '1030': {'name': 'Green chilly sauce', 'pr': 180, 'qn': 20}}"
            ]
          },
          "metadata": {},
          "execution_count": 55
        }
      ]
    },
    {
      "cell_type": "code",
      "metadata": {
        "colab": {
          "base_uri": "https://localhost:8080/"
        },
        "id": "zmewUY1xyxZp",
        "outputId": "83290f14-2ba9-4a3b-9896-ddbcda1dd328"
      },
      "source": [
        "#Purchase\n",
        "\n",
        "ui_prod  = str(input(\"Enter the product_Id: \"))\n",
        "ui_quant = int(input(\"Enter the quantity: \"))\n",
        "if(ui_quant<records[ui_prod][\"qn\"]):\n",
        "  \n",
        "  print(\"Product: \", records[ui_prod]['name'])\n",
        "print(\"Price: \", records[ui_prod]['pr'])\n",
        "print(\"Billing Amount: \", records[ui_prod]['pr'] * ui_quant)\n",
        "\n",
        "\n",
        "#Updating record after customer purchase product\n",
        "\n",
        "records[ui_prod]['qn'] = records[ui_prod]['qn'] - ui_quant"
      ],
      "execution_count": 43,
      "outputs": [
        {
          "output_type": "stream",
          "name": "stdout",
          "text": [
            "Enter the product_Id: 1004\n",
            "Enter the quantity: 5\n",
            "Product:  Candy\n",
            "Price:  5\n",
            "Billing Amount:  25\n"
          ]
        }
      ]
    },
    {
      "cell_type": "code",
      "metadata": {
        "colab": {
          "base_uri": "https://localhost:8080/"
        },
        "id": "9lvzYsIY1Q4C",
        "outputId": "05371293-20cd-4b51-88b1-2eb67ebd846b"
      },
      "source": [
        "records"
      ],
      "execution_count": 44,
      "outputs": [
        {
          "output_type": "execute_result",
          "data": {
            "text/plain": [
              "{'1001': {'name': 'Choco Cake', 'pr': 100, 'qn': 14},\n",
              " '1002': {'name': 'Milk Cake', 'pr': 800, 'qn': 100},\n",
              " '1003': {'name': 'Drink', 'pr': 85, 'qn': 90},\n",
              " '1004': {'name': 'Candy', 'pr': 5, 'qn': 995},\n",
              " '1005': {'name': 'Pen', 'pr': 20, 'qn': 100},\n",
              " '1006': {'name': 'Phone', 'pr': 50000, 'qn': 10},\n",
              " '1007': {'name': 'Mic', 'pr': 1500, 'qn': 0},\n",
              " '1008': {'name': 'Case', 'pr': 599, 'qn': 5},\n",
              " '1009': {'name': 'Keyboard', 'pr': 1999, 'qn': 10},\n",
              " '1010': {'name': 'Cupcake', 'pr': 100, 'qn': 5},\n",
              " '1011': {'name': 'Truffle Cake', 'pr': 400, 'qn': 1},\n",
              " '1012': {'name': 'Oreo', 'pr': 30, 'qn': 10},\n",
              " '1013': {'name': 'Kitkat', 'pr': 20, 'qn': 50},\n",
              " '1014': {'name': 'Pencil', 'pr': 10, 'qn': 5},\n",
              " '1015': {'name': 'Cookies', 'pr': 145, 'qn': 5},\n",
              " '1016': {'name': 'Chocolate snack', 'pr': 45, 'qn': 6},\n",
              " '1017': {'name': 'Salty chips', 'pr': 20, 'qn': 10},\n",
              " '1018': {'name': 'Butter bite biscuit', 'pr': 200, 'qn': 5},\n",
              " '1019': {'name': 'Organic biscuit', 'pr': 100, 'qn': 5},\n",
              " '1020': {'name': 'Lipton green tea', 'pr': 200, 'qn': 4},\n",
              " '1021': {'name': 'Vikram tea', 'pr': 165, 'qn': 5},\n",
              " '1022': {'name': 'Aloevera juice', 'pr': 50, 'qn': 6},\n",
              " '1023': {'name': 'Amla Juice', 'pr': 60, 'qn': 7},\n",
              " '1024': {'name': 'Almond', 'pr': 60, 'qn': 1},\n",
              " '1025': {'name': 'Cashew nuts', 'pr': 50, 'qn': 5},\n",
              " '1026': {'name': 'Peanuts', 'pr': 70, 'qn': 4},\n",
              " '1027': {'name': 'Tomato sauce', 'pr': 125, 'qn': 5},\n",
              " '1028': {'name': 'Soya sauce', 'pr': 125, 'qn': 6},\n",
              " '1029': {'name': 'Red chilly sauce', 'pr': 160, 'qn': 10},\n",
              " '1030': {'name': 'Green chilly sauce', 'pr': 180, 'qn': 20}}"
            ]
          },
          "metadata": {},
          "execution_count": 44
        }
      ]
    },
    {
      "cell_type": "code",
      "metadata": {
        "id": "D5A2ImeD2htw"
      },
      "source": [
        "#Update inventory after purchase"
      ],
      "execution_count": null,
      "outputs": []
    },
    {
      "cell_type": "code",
      "metadata": {
        "id": "a_xmgXFe2_zW"
      },
      "source": [
        "js = json.dumps(records)\n",
        "\n",
        "fd = open(\"record.json\",'w')\n",
        "fd.write(js)\n",
        "fd.close()"
      ],
      "execution_count": 48,
      "outputs": []
    },
    {
      "cell_type": "markdown",
      "metadata": {
        "id": "X8JAwBp9MAMK"
      },
      "source": [
        "#sales json \n"
      ]
    },
    {
      "cell_type": "code",
      "metadata": {
        "colab": {
          "base_uri": "https://localhost:8080/"
        },
        "id": "W6sz9m483BUm",
        "outputId": "e9fd0a1b-7a46-45c2-ce76-826b2c833538"
      },
      "source": [
        "\n",
        "\n",
        "\n",
        "{'prod' : ui_prod, 'qn' : ui_quant, 'amount': records[ui_prod]['pr'] * ui_quant}"
      ],
      "execution_count": 17,
      "outputs": [
        {
          "output_type": "execute_result",
          "data": {
            "text/plain": [
              "{'amount': 1000, 'prod': '1001', 'qn': 10}"
            ]
          },
          "metadata": {},
          "execution_count": 17
        }
      ]
    },
    {
      "cell_type": "code",
      "metadata": {
        "id": "FucvZgiy3--u"
      },
      "source": [
        "import json\n",
        "import time\n",
        "top=time.ctime()\n",
        "fd=open('sales.json','r')\n",
        "s=fd.read()\n",
        "sales=json.loads(s)"
      ],
      "execution_count": 49,
      "outputs": []
    },
    {
      "cell_type": "code",
      "metadata": {
        "id": "Kz3AV3JF4Eaw"
      },
      "source": [
        "sales[len(sales)+1]={\"Product Id \":ui_prod,\"Quantity\":ui_quant,\"Price\":records[ui_prod][\"pr\"]*ui_quant,\"Time\":top}"
      ],
      "execution_count": 50,
      "outputs": []
    },
    {
      "cell_type": "code",
      "metadata": {
        "id": "AjhxYSYT4IlJ"
      },
      "source": [
        "sale=json.dumps(sales)\n",
        "fd=open('sales.json','w')\n",
        "w=fd.write(sale)\n",
        "fd.close()\n"
      ],
      "execution_count": 51,
      "outputs": []
    },
    {
      "cell_type": "code",
      "metadata": {
        "id": "RqvBjroL4qOV",
        "colab": {
          "base_uri": "https://localhost:8080/",
          "height": 86
        },
        "outputId": "7f3c8df8-d4d6-4720-b82a-d7b700a70e47"
      },
      "source": [
        "sale"
      ],
      "execution_count": 52,
      "outputs": [
        {
          "output_type": "execute_result",
          "data": {
            "application/vnd.google.colaboratory.intrinsic+json": {
              "type": "string"
            },
            "text/plain": [
              "'{\"1\": {\"prod\": \"1001\", \"qn\": 10, \"amount\": 1000}, \"2\": {\"prod\": \"1001\", \"qn\": 10, \"amount\": 1000}, \"3\": {\"prod\": \"1001\", \"qn\": 10, \"amount\": 1000}, \"4\": {\"prod\": \"1001\", \"qn\": 10, \"amount\": 1000}, \"5\": {\"Product Id \": \"1001\", \"Quantity\": 10, \"Price\": 1000}, \"6\": {\"Product Id \": \"1001\", \"Quantity\": 10, \"Price\": 1000, \"Time\": \"Mon Sep  6 08:57:34 2021\"}, \"7\": {\"Product Id \": \"1003\", \"Quantity\": 10, \"Price\": 850, \"Time\": \"Mon Sep  6 09:00:29 2021\"}, \"8\": {\"Product Id \": \"1004\", \"Quantity\": 5, \"Price\": 25, \"Time\": \"Mon Sep  6 09:03:17 2021\"}}'"
            ]
          },
          "metadata": {},
          "execution_count": 52
        }
      ]
    },
    {
      "cell_type": "code",
      "metadata": {
        "id": "ZwpOI1QX5AQZ"
      },
      "source": [
        ""
      ],
      "execution_count": null,
      "outputs": []
    }
  ]
}